{
 "cells": [
  {
   "cell_type": "code",
   "execution_count": 2,
   "id": "545c6bfb-8a43-486f-94c4-ecfe2c5ac728",
   "metadata": {},
   "outputs": [],
   "source": [
    "#import pickle to load the saved model\n",
    "import pickle"
   ]
  },
  {
   "cell_type": "code",
   "execution_count": 4,
   "id": "f55c81c5-d022-47a8-b8de-0a8861f4564a",
   "metadata": {},
   "outputs": [
    {
     "name": "stderr",
     "output_type": "stream",
     "text": [
      "C:\\Users\\Inst_\\anaconda3\\Lib\\site-packages\\sklearn\\base.py:493: UserWarning: X does not have valid feature names, but RandomForestRegressor was fitted with feature names\n",
      "  warnings.warn(\n"
     ]
    }
   ],
   "source": [
    "# loading the saved model using load function\n",
    "# predict the output using predict function\n",
    "loaded_model=pickle.load(open(\"Random_forest_final.sav\",'rb'))\n",
    "result=loaded_model.predict([[40,47,2,0,1]])"
   ]
  },
  {
   "cell_type": "code",
   "execution_count": 6,
   "id": "a2a5f1a5-3888-4b01-aa94-5e28014b068c",
   "metadata": {},
   "outputs": [
    {
     "data": {
      "text/plain": [
       "array([44626.30419187])"
      ]
     },
     "execution_count": 6,
     "metadata": {},
     "output_type": "execute_result"
    }
   ],
   "source": [
    "result"
   ]
  },
  {
   "cell_type": "code",
   "execution_count": null,
   "id": "eb7b2813-1558-4ff6-aebb-d59015aba209",
   "metadata": {},
   "outputs": [],
   "source": []
  }
 ],
 "metadata": {
  "kernelspec": {
   "display_name": "Python [conda env:base] *",
   "language": "python",
   "name": "conda-base-py"
  },
  "language_info": {
   "codemirror_mode": {
    "name": "ipython",
    "version": 3
   },
   "file_extension": ".py",
   "mimetype": "text/x-python",
   "name": "python",
   "nbconvert_exporter": "python",
   "pygments_lexer": "ipython3",
   "version": "3.12.7"
  }
 },
 "nbformat": 4,
 "nbformat_minor": 5
}
